{
 "metadata": {
  "language_info": {
   "codemirror_mode": {
    "name": "ipython",
    "version": 3
   },
   "file_extension": ".py",
   "mimetype": "text/x-python",
   "name": "python",
   "nbconvert_exporter": "python",
   "pygments_lexer": "ipython3",
   "version": "3.8.5-final"
  },
  "orig_nbformat": 2,
  "kernelspec": {
   "name": "Python 3.8.5 64-bit ('pythonUdemy': conda)",
   "display_name": "Python 3.8.5 64-bit ('pythonUdemy': conda)",
   "metadata": {
    "interpreter": {
     "hash": "ee27b0758037559f45267dec84e876aad6aa13fc08cf563434cf30fbec5eff94"
    }
   }
  }
 },
 "nbformat": 4,
 "nbformat_minor": 2,
 "cells": [
  {
   "cell_type": "code",
   "execution_count": 1,
   "metadata": {},
   "outputs": [],
   "source": [
    "from matrix.matrix import *"
   ]
  },
  {
   "cell_type": "code",
   "execution_count": 3,
   "metadata": {},
   "outputs": [
    {
     "output_type": "execute_result",
     "data": {
      "text/plain": [
       "The matrix consists of 2 rows and 3 colums"
      ]
     },
     "metadata": {},
     "execution_count": 3
    }
   ],
   "source": [
    "Matrix([[1,2,3], [4,5,6]])"
   ]
  },
  {
   "cell_type": "code",
   "execution_count": 21,
   "metadata": {},
   "outputs": [
    {
     "output_type": "error",
     "ename": "TypeError",
     "evalue": "'str' object is not callable",
     "traceback": [
      "\u001b[1;31m---------------------------------------------------------------------------\u001b[0m",
      "\u001b[1;31mTypeError\u001b[0m                                 Traceback (most recent call last)",
      "\u001b[1;32m<ipython-input-21-50d339b9ad56>\u001b[0m in \u001b[0;36m<module>\u001b[1;34m\u001b[0m\n\u001b[0;32m      1\u001b[0m \u001b[0ms\u001b[0m \u001b[1;33m=\u001b[0m \u001b[1;34m\"\"\u001b[0m\u001b[1;33m\u001b[0m\u001b[1;33m\u001b[0m\u001b[0m\n\u001b[0;32m      2\u001b[0m \u001b[1;32mfor\u001b[0m \u001b[0mi\u001b[0m \u001b[1;32min\u001b[0m \u001b[0mrange\u001b[0m\u001b[1;33m(\u001b[0m\u001b[1;36m10\u001b[0m\u001b[1;33m)\u001b[0m\u001b[1;33m:\u001b[0m\u001b[1;33m\u001b[0m\u001b[1;33m\u001b[0m\u001b[0m\n\u001b[1;32m----> 3\u001b[1;33m     \u001b[0ms\u001b[0m\u001b[1;33m+=\u001b[0m\u001b[0mstr\u001b[0m\u001b[1;33m(\u001b[0m\u001b[0mi\u001b[0m\u001b[1;33m)\u001b[0m\u001b[1;33m\u001b[0m\u001b[1;33m\u001b[0m\u001b[0m\n\u001b[0m",
      "\u001b[1;31mTypeError\u001b[0m: 'str' object is not callable"
     ]
    }
   ],
   "source": [
    "s = \"\"\n",
    "for i in range(10):\n",
    "    s+=str(i)"
   ]
  },
  {
   "cell_type": "code",
   "execution_count": 22,
   "metadata": {},
   "outputs": [
    {
     "output_type": "execute_result",
     "data": {
      "text/plain": [
       "[[0, 0, 0], [0, 0, 0]]"
      ]
     },
     "metadata": {},
     "execution_count": 22
    }
   ],
   "source": [
    "num_cols = 3\n",
    "num_rows = 2\n",
    "\n",
    "new_matrix = [[0 for col_idx in range(num_cols)] for row_idx in range(num_rows)]\n",
    "new_matrix"
   ]
  },
  {
   "cell_type": "code",
   "execution_count": null,
   "metadata": {},
   "outputs": [],
   "source": [
    "import numpy \n",
    "\n",
    "np"
   ]
  },
  {
   "cell_type": "code",
   "execution_count": null,
   "metadata": {},
   "outputs": [],
   "source": [
    "size=5\n",
    "[1 if i == j for i in range(size)]"
   ]
  },
  {
   "cell_type": "code",
   "execution_count": null,
   "metadata": {},
   "outputs": [],
   "source": [
    "size=5\n",
    "lis = []\n",
    "for i in range(size):\n",
    "    for j in range(size):\n",
    "        if i == j:\n",
    "            lis.append(1)\n",
    "print(lis)"
   ]
  },
  {
   "cell_type": "code",
   "execution_count": null,
   "metadata": {},
   "outputs": [],
   "source": [
    "# M 4x3\n",
    "matrix_1 = [[1,2,3],[4,5,6]]\n",
    "matrix_2 = [[1,1,1],[1,1,1]]\n",
    "\n",
    "my_matrix = [[matrix_1[row_idx][col_idx] + matrix_2[row_idx][col_idx] for col_idx in range(len(matrix_1[0]))] for row_idx in range(len(matrix_1))]\n",
    "my_matrix"
   ]
  },
  {
   "cell_type": "code",
   "execution_count": null,
   "metadata": {},
   "outputs": [],
   "source": [
    "matrix_1 = [[1,2,3],[4,5,6]]                # yes\n",
    "matrix_2 = [[1,1,1,1], [1,1,1]]             # no\n",
    "matrix_3 = [[[1,2,3], [4,5,6], [7,8,9]]]    # no\n",
    "matrix_4 = [['a', 1.2, 3], [4, 5, 6]]       # no"
   ]
  },
  {
   "cell_type": "code",
   "execution_count": null,
   "metadata": {},
   "outputs": [],
   "source": [
    "res = all(isinstance(ele, list) for ele in matrix_3) \n",
    "res"
   ]
  },
  {
   "cell_type": "code",
   "execution_count": null,
   "metadata": {},
   "outputs": [],
   "source": [
    "def is2DList(matrix_list):\n",
    "  if isinstance(matrix_list[0], list):\n",
    "    return True\n",
    "  else:\n",
    "    return False\n",
    "\n",
    "is2DList(matrix_2)"
   ]
  },
  {
   "cell_type": "code",
   "execution_count": null,
   "metadata": {},
   "outputs": [],
   "source": [
    "#isinstance(matrix_1[0], list)\n",
    "isinstance(matrix_1[0][0], int)\n",
    "#matrix_1[0][0][0]\n",
    "\n",
    "def is_2_d(matrix):\n",
    "    if isinstance(matrix[0], list) and isinstance(matrix[0][0], int):\n",
    "        return True\n",
    "    else: \n",
    "        return False"
   ]
  },
  {
   "cell_type": "code",
   "execution_count": null,
   "metadata": {},
   "outputs": [],
   "source": [
    "is_2_d(matrix_4)"
   ]
  },
  {
   "cell_type": "code",
   "execution_count": null,
   "metadata": {},
   "outputs": [],
   "source": [
    "# Length of every inner list (len(mat[0...i])) is the same\n",
    "lis = [[1,2],[4,5,6]] \n",
    "len_inner_list = len(lis[0])\n",
    "same_length = True\n",
    "\n",
    "for i in range(len(lis)):\n",
    "    if len(lis[i]) != len_inner_list:\n",
    "        same_length = False\n",
    "\n",
    "print(same_length)"
   ]
  },
  {
   "cell_type": "code",
   "execution_count": null,
   "metadata": {},
   "outputs": [],
   "source": [
    "lis = [[1,2],[4,5,6]] \n",
    "length_inner_list = len(lis[0])\n",
    "\n",
    "is_a_matrix = [False if len(lis[i]) != length_inner_list else True for i in range(len(lis))]\n",
    "print(is_a_matrix)"
   ]
  },
  {
   "cell_type": "code",
   "execution_count": null,
   "metadata": {},
   "outputs": [],
   "source": []
  }
 ]
}