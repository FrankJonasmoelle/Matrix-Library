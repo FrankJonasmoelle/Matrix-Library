{
 "metadata": {
  "language_info": {
   "codemirror_mode": {
    "name": "ipython",
    "version": 3
   },
   "file_extension": ".py",
   "mimetype": "text/x-python",
   "name": "python",
   "nbconvert_exporter": "python",
   "pygments_lexer": "ipython3",
   "version": "3.8.5-final"
  },
  "orig_nbformat": 2,
  "kernelspec": {
   "name": "Python 3.8.5 64-bit ('pythonUdemy': conda)",
   "display_name": "Python 3.8.5 64-bit ('pythonUdemy': conda)",
   "metadata": {
    "interpreter": {
     "hash": "ee27b0758037559f45267dec84e876aad6aa13fc08cf563434cf30fbec5eff94"
    }
   }
  }
 },
 "nbformat": 4,
 "nbformat_minor": 2,
 "cells": [
  {
   "cell_type": "code",
   "execution_count": 2,
   "metadata": {},
   "outputs": [],
   "source": [
    "lis = [[1,2,3], [4,5,6]]"
   ]
  },
  {
   "cell_type": "code",
   "execution_count": 3,
   "metadata": {},
   "outputs": [
    {
     "output_type": "execute_result",
     "data": {
      "text/plain": [
       "[1, 2, 3]"
      ]
     },
     "metadata": {},
     "execution_count": 3
    }
   ],
   "source": [
    "lis[0]"
   ]
  },
  {
   "cell_type": "code",
   "execution_count": 4,
   "metadata": {},
   "outputs": [
    {
     "output_type": "execute_result",
     "data": {
      "text/plain": [
       "2"
      ]
     },
     "metadata": {},
     "execution_count": 4
    }
   ],
   "source": [
    "len(lis)"
   ]
  },
  {
   "cell_type": "code",
   "execution_count": null,
   "metadata": {},
   "outputs": [],
   "source": [
    "import numpy \n",
    "\n",
    "np"
   ]
  },
  {
   "cell_type": "code",
   "execution_count": 1,
   "metadata": {},
   "outputs": [
    {
     "output_type": "execute_result",
     "data": {
      "text/plain": [
       "[0, 1, 2, 3, 4]"
      ]
     },
     "metadata": {},
     "execution_count": 1
    }
   ],
   "source": [
    "size=5\n",
    "[1 if i == j for i in range(size)]"
   ]
  },
  {
   "cell_type": "code",
   "execution_count": 3,
   "metadata": {},
   "outputs": [
    {
     "output_type": "stream",
     "name": "stdout",
     "text": [
      "[1, 1, 1, 1, 1]\n"
     ]
    }
   ],
   "source": [
    "size=5\n",
    "lis = []\n",
    "for i in range(size):\n",
    "    for j in range(size):\n",
    "        if i == j:\n",
    "            lis.append(1)\n",
    "print(lis)"
   ]
  },
  {
   "cell_type": "code",
   "execution_count": 3,
   "metadata": {},
   "outputs": [
    {
     "output_type": "execute_result",
     "data": {
      "text/plain": [
       "[[2, 3, 4], [5, 6, 7]]"
      ]
     },
     "metadata": {},
     "execution_count": 3
    }
   ],
   "source": [
    "# M 4x3\n",
    "matrix_1 = [[1,2,3],[4,5,6]]\n",
    "matrix_2 = [[1,1,1],[1,1,1]]\n",
    "\n",
    "my_matrix = [[matrix_1[row_idx][col_idx] + matrix_2[row_idx][col_idx] for col_idx in range(len(matrix_1[0]))] for row_idx in range(len(matrix_1))]\n",
    "my_matrix"
   ]
  },
  {
   "cell_type": "code",
   "execution_count": 4,
   "metadata": {},
   "outputs": [],
   "source": [
    "matrix_1 = [[1,2,3],[4,5,6]]                # yes\n",
    "matrix_2 = [[1,1,1,1], [1,1,1]]             # no\n",
    "matrix_3 = [[[1,2,3], [4,5,6], [7,8,9]]]    # no\n",
    "matrix_4 = [['a', 1.2, 3], [4, 5, 6]]       # no"
   ]
  },
  {
   "cell_type": "code",
   "execution_count": 6,
   "metadata": {},
   "outputs": [
    {
     "output_type": "execute_result",
     "data": {
      "text/plain": [
       "True"
      ]
     },
     "metadata": {},
     "execution_count": 6
    }
   ],
   "source": [
    "res = all(isinstance(ele, list) for ele in matrix_3) \n",
    "res"
   ]
  },
  {
   "cell_type": "code",
   "execution_count": 8,
   "metadata": {},
   "outputs": [
    {
     "output_type": "execute_result",
     "data": {
      "text/plain": [
       "True"
      ]
     },
     "metadata": {},
     "execution_count": 8
    }
   ],
   "source": [
    "def is2DList(matrix_list):\n",
    "  if isinstance(matrix_list[0], list):\n",
    "    return True\n",
    "  else:\n",
    "    return False\n",
    "\n",
    "is2DList(matrix_2)"
   ]
  },
  {
   "cell_type": "code",
   "execution_count": 23,
   "metadata": {},
   "outputs": [],
   "source": [
    "#isinstance(matrix_1[0], list)\n",
    "isinstance(matrix_1[0][0], int)\n",
    "#matrix_1[0][0][0]\n",
    "\n",
    "def is_2_d(matrix):\n",
    "    if isinstance(matrix[0], list) and isinstance(matrix[0][0], int):\n",
    "        return True\n",
    "    else: \n",
    "        return False"
   ]
  },
  {
   "cell_type": "code",
   "execution_count": 26,
   "metadata": {},
   "outputs": [
    {
     "output_type": "execute_result",
     "data": {
      "text/plain": [
       "False"
      ]
     },
     "metadata": {},
     "execution_count": 26
    }
   ],
   "source": [
    "is_2_d(matrix_4)"
   ]
  },
  {
   "cell_type": "code",
   "execution_count": 30,
   "metadata": {},
   "outputs": [
    {
     "output_type": "stream",
     "name": "stdout",
     "text": [
      "False\n"
     ]
    }
   ],
   "source": [
    "# Length of every inner list (len(mat[0...i])) is the same\n",
    "lis = [[1,2],[4,5,6]] \n",
    "len_inner_list = len(lis[0])\n",
    "same_length = True\n",
    "\n",
    "for i in range(len(lis)):\n",
    "    if len(lis[i]) != len_inner_list:\n",
    "        same_length = False\n",
    "\n",
    "print(same_length)"
   ]
  },
  {
   "cell_type": "code",
   "execution_count": 32,
   "metadata": {},
   "outputs": [
    {
     "output_type": "stream",
     "name": "stdout",
     "text": [
      "[True, False]\n"
     ]
    }
   ],
   "source": [
    "lis = [[1,2],[4,5,6]] \n",
    "length_inner_list = len(lis[0])\n",
    "\n",
    "is_a_matrix = [False if len(lis[i]) != length_inner_list else True for i in range(len(lis))]\n",
    "print(is_a_matrix)"
   ]
  },
  {
   "cell_type": "code",
   "execution_count": null,
   "metadata": {},
   "outputs": [],
   "source": []
  }
 ]
}